{
  "nbformat": 4,
  "nbformat_minor": 0,
  "metadata": {
    "colab": {
      "provenance": []
    },
    "kernelspec": {
      "name": "python3",
      "display_name": "Python 3"
    },
    "language_info": {
      "name": "python"
    }
  },
  "cells": [
    {
      "cell_type": "code",
      "execution_count": null,
      "metadata": {
        "colab": {
          "base_uri": "https://localhost:8080/",
          "height": 17
        },
        "id": "SC8zSiY7E6TQ",
        "outputId": "6df56486-6516-427d-e13f-6791614f7e6b"
      },
      "outputs": [
        {
          "output_type": "display_data",
          "data": {
            "text/html": [
              "        <script type=\"text/javascript\">\n",
              "        window.PlotlyConfig = {MathJaxConfig: 'local'};\n",
              "        if (window.MathJax) {MathJax.Hub.Config({SVG: {font: \"STIX-Web\"}});}\n",
              "        if (typeof require !== 'undefined') {\n",
              "        require.undef(\"plotly\");\n",
              "        requirejs.config({\n",
              "            paths: {\n",
              "                'plotly': ['https://cdn.plot.ly/plotly-2.8.3.min']\n",
              "            }\n",
              "        });\n",
              "        require(['plotly'], function(Plotly) {\n",
              "            window._Plotly = Plotly;\n",
              "        });\n",
              "        }\n",
              "        </script>\n",
              "        "
            ]
          },
          "metadata": {}
        }
      ],
      "source": [
        "import numpy as np\n",
        "import pandas as pd\n",
        "import matplotlib.pyplot as plt\n",
        "%matplotlib inline\n",
        "\n",
        "\n",
        "import plotly.graph_objs as go\n",
        "from plotly.offline import plot\n",
        "#for offline plotting\n",
        "from plotly.offline import download_plotlyjs, init_notebook_mode, plot, iplot\n",
        "init_notebook_mode(connected=True)"
      ]
    },
    {
      "cell_type": "code",
      "source": [
        "google = pd.read_csv('google.csv')\n",
        "google.head()"
      ],
      "metadata": {
        "colab": {
          "base_uri": "https://localhost:8080/",
          "height": 206
        },
        "id": "mPbTxAjbGDQf",
        "outputId": "cc37933e-a221-4206-e376-8efb7142228b"
      },
      "execution_count": null,
      "outputs": [
        {
          "output_type": "execute_result",
          "data": {
            "text/plain": [
              "         Date      Open      High       Low     Close  Adj Close     Volume\n",
              "0  2004-08-20  2.527778  2.729730  2.515015  2.710460   2.710460  456686856\n",
              "1  2004-08-23  2.771522  2.839840  2.728979  2.737738   2.737738  365122512\n",
              "2  2004-08-24  2.783784  2.792793  2.591842  2.624374   2.624374  304946748\n",
              "3  2004-08-25  2.626627  2.702703  2.599600  2.652653   2.652653  183772044\n",
              "4  2004-08-26  2.626376  2.701451  2.619119  2.700450   2.700450  141897960"
            ],
            "text/html": [
              "\n",
              "  <div id=\"df-724bcf0e-71b6-4272-b2cf-6a8b27d197f6\">\n",
              "    <div class=\"colab-df-container\">\n",
              "      <div>\n",
              "<style scoped>\n",
              "    .dataframe tbody tr th:only-of-type {\n",
              "        vertical-align: middle;\n",
              "    }\n",
              "\n",
              "    .dataframe tbody tr th {\n",
              "        vertical-align: top;\n",
              "    }\n",
              "\n",
              "    .dataframe thead th {\n",
              "        text-align: right;\n",
              "    }\n",
              "</style>\n",
              "<table border=\"1\" class=\"dataframe\">\n",
              "  <thead>\n",
              "    <tr style=\"text-align: right;\">\n",
              "      <th></th>\n",
              "      <th>Date</th>\n",
              "      <th>Open</th>\n",
              "      <th>High</th>\n",
              "      <th>Low</th>\n",
              "      <th>Close</th>\n",
              "      <th>Adj Close</th>\n",
              "      <th>Volume</th>\n",
              "    </tr>\n",
              "  </thead>\n",
              "  <tbody>\n",
              "    <tr>\n",
              "      <th>0</th>\n",
              "      <td>2004-08-20</td>\n",
              "      <td>2.527778</td>\n",
              "      <td>2.729730</td>\n",
              "      <td>2.515015</td>\n",
              "      <td>2.710460</td>\n",
              "      <td>2.710460</td>\n",
              "      <td>456686856</td>\n",
              "    </tr>\n",
              "    <tr>\n",
              "      <th>1</th>\n",
              "      <td>2004-08-23</td>\n",
              "      <td>2.771522</td>\n",
              "      <td>2.839840</td>\n",
              "      <td>2.728979</td>\n",
              "      <td>2.737738</td>\n",
              "      <td>2.737738</td>\n",
              "      <td>365122512</td>\n",
              "    </tr>\n",
              "    <tr>\n",
              "      <th>2</th>\n",
              "      <td>2004-08-24</td>\n",
              "      <td>2.783784</td>\n",
              "      <td>2.792793</td>\n",
              "      <td>2.591842</td>\n",
              "      <td>2.624374</td>\n",
              "      <td>2.624374</td>\n",
              "      <td>304946748</td>\n",
              "    </tr>\n",
              "    <tr>\n",
              "      <th>3</th>\n",
              "      <td>2004-08-25</td>\n",
              "      <td>2.626627</td>\n",
              "      <td>2.702703</td>\n",
              "      <td>2.599600</td>\n",
              "      <td>2.652653</td>\n",
              "      <td>2.652653</td>\n",
              "      <td>183772044</td>\n",
              "    </tr>\n",
              "    <tr>\n",
              "      <th>4</th>\n",
              "      <td>2004-08-26</td>\n",
              "      <td>2.626376</td>\n",
              "      <td>2.701451</td>\n",
              "      <td>2.619119</td>\n",
              "      <td>2.700450</td>\n",
              "      <td>2.700450</td>\n",
              "      <td>141897960</td>\n",
              "    </tr>\n",
              "  </tbody>\n",
              "</table>\n",
              "</div>\n",
              "      <button class=\"colab-df-convert\" onclick=\"convertToInteractive('df-724bcf0e-71b6-4272-b2cf-6a8b27d197f6')\"\n",
              "              title=\"Convert this dataframe to an interactive table.\"\n",
              "              style=\"display:none;\">\n",
              "        \n",
              "  <svg xmlns=\"http://www.w3.org/2000/svg\" height=\"24px\"viewBox=\"0 0 24 24\"\n",
              "       width=\"24px\">\n",
              "    <path d=\"M0 0h24v24H0V0z\" fill=\"none\"/>\n",
              "    <path d=\"M18.56 5.44l.94 2.06.94-2.06 2.06-.94-2.06-.94-.94-2.06-.94 2.06-2.06.94zm-11 1L8.5 8.5l.94-2.06 2.06-.94-2.06-.94L8.5 2.5l-.94 2.06-2.06.94zm10 10l.94 2.06.94-2.06 2.06-.94-2.06-.94-.94-2.06-.94 2.06-2.06.94z\"/><path d=\"M17.41 7.96l-1.37-1.37c-.4-.4-.92-.59-1.43-.59-.52 0-1.04.2-1.43.59L10.3 9.45l-7.72 7.72c-.78.78-.78 2.05 0 2.83L4 21.41c.39.39.9.59 1.41.59.51 0 1.02-.2 1.41-.59l7.78-7.78 2.81-2.81c.8-.78.8-2.07 0-2.86zM5.41 20L4 18.59l7.72-7.72 1.47 1.35L5.41 20z\"/>\n",
              "  </svg>\n",
              "      </button>\n",
              "      \n",
              "  <style>\n",
              "    .colab-df-container {\n",
              "      display:flex;\n",
              "      flex-wrap:wrap;\n",
              "      gap: 12px;\n",
              "    }\n",
              "\n",
              "    .colab-df-convert {\n",
              "      background-color: #E8F0FE;\n",
              "      border: none;\n",
              "      border-radius: 50%;\n",
              "      cursor: pointer;\n",
              "      display: none;\n",
              "      fill: #1967D2;\n",
              "      height: 32px;\n",
              "      padding: 0 0 0 0;\n",
              "      width: 32px;\n",
              "    }\n",
              "\n",
              "    .colab-df-convert:hover {\n",
              "      background-color: #E2EBFA;\n",
              "      box-shadow: 0px 1px 2px rgba(60, 64, 67, 0.3), 0px 1px 3px 1px rgba(60, 64, 67, 0.15);\n",
              "      fill: #174EA6;\n",
              "    }\n",
              "\n",
              "    [theme=dark] .colab-df-convert {\n",
              "      background-color: #3B4455;\n",
              "      fill: #D2E3FC;\n",
              "    }\n",
              "\n",
              "    [theme=dark] .colab-df-convert:hover {\n",
              "      background-color: #434B5C;\n",
              "      box-shadow: 0px 1px 3px 1px rgba(0, 0, 0, 0.15);\n",
              "      filter: drop-shadow(0px 1px 2px rgba(0, 0, 0, 0.3));\n",
              "      fill: #FFFFFF;\n",
              "    }\n",
              "  </style>\n",
              "\n",
              "      <script>\n",
              "        const buttonEl =\n",
              "          document.querySelector('#df-724bcf0e-71b6-4272-b2cf-6a8b27d197f6 button.colab-df-convert');\n",
              "        buttonEl.style.display =\n",
              "          google.colab.kernel.accessAllowed ? 'block' : 'none';\n",
              "\n",
              "        async function convertToInteractive(key) {\n",
              "          const element = document.querySelector('#df-724bcf0e-71b6-4272-b2cf-6a8b27d197f6');\n",
              "          const dataTable =\n",
              "            await google.colab.kernel.invokeFunction('convertToInteractive',\n",
              "                                                     [key], {});\n",
              "          if (!dataTable) return;\n",
              "\n",
              "          const docLinkHtml = 'Like what you see? Visit the ' +\n",
              "            '<a target=\"_blank\" href=https://colab.research.google.com/notebooks/data_table.ipynb>data table notebook</a>'\n",
              "            + ' to learn more about interactive tables.';\n",
              "          element.innerHTML = '';\n",
              "          dataTable['output_type'] = 'display_data';\n",
              "          await google.colab.output.renderOutput(dataTable, element);\n",
              "          const docLink = document.createElement('div');\n",
              "          docLink.innerHTML = docLinkHtml;\n",
              "          element.appendChild(docLink);\n",
              "        }\n",
              "      </script>\n",
              "    </div>\n",
              "  </div>\n",
              "  "
            ]
          },
          "metadata": {},
          "execution_count": 8
        }
      ]
    },
    {
      "cell_type": "code",
      "source": [
        "google.info()"
      ],
      "metadata": {
        "colab": {
          "base_uri": "https://localhost:8080/"
        },
        "id": "JxZPoNxaGeFe",
        "outputId": "19c60266-d401-4225-9717-dcaf5b0fa09b"
      },
      "execution_count": null,
      "outputs": [
        {
          "output_type": "stream",
          "name": "stdout",
          "text": [
            "<class 'pandas.core.frame.DataFrame'>\n",
            "RangeIndex: 4517 entries, 0 to 4516\n",
            "Data columns (total 7 columns):\n",
            " #   Column     Non-Null Count  Dtype  \n",
            "---  ------     --------------  -----  \n",
            " 0   Date       4517 non-null   object \n",
            " 1   Open       4517 non-null   float64\n",
            " 2   High       4517 non-null   float64\n",
            " 3   Low        4517 non-null   float64\n",
            " 4   Close      4517 non-null   float64\n",
            " 5   Adj Close  4517 non-null   float64\n",
            " 6   Volume     4517 non-null   int64  \n",
            "dtypes: float64(5), int64(1), object(1)\n",
            "memory usage: 247.1+ KB\n"
          ]
        }
      ]
    },
    {
      "cell_type": "code",
      "source": [
        "google['Date'] = pd.to_datetime(google['Date'])"
      ],
      "metadata": {
        "id": "oHxQt0uCG5I_"
      },
      "execution_count": null,
      "outputs": []
    },
    {
      "cell_type": "code",
      "source": [
        "print(f'Google Dateset Contains stock Price between {google.Date.min()} to  {google.Date.max()}')\n",
        "print(f'Total Day = {(google.Date.max() - google.Date.min()).days} Days')"
      ],
      "metadata": {
        "colab": {
          "base_uri": "https://localhost:8080/"
        },
        "id": "_1CxnDh-RpXz",
        "outputId": "c85b49f2-d6e7-43d1-d0bd-1059710007e5"
      },
      "execution_count": null,
      "outputs": [
        {
          "output_type": "stream",
          "name": "stdout",
          "text": [
            "Google Dateset Contains stock Price between 2004-08-20 00:00:00 to  2022-07-29 00:00:00\n",
            "Total Day = 6552 Days\n"
          ]
        }
      ]
    },
    {
      "cell_type": "code",
      "source": [
        "google.describe()"
      ],
      "metadata": {
        "colab": {
          "base_uri": "https://localhost:8080/",
          "height": 300
        },
        "id": "GaLeDnmpRriJ",
        "outputId": "a65fc585-4603-45be-bc2c-db23ba9ab7fa"
      },
      "execution_count": null,
      "outputs": [
        {
          "output_type": "execute_result",
          "data": {
            "text/plain": [
              "              Open         High          Low        Close    Adj Close  \\\n",
              "count  4517.000000  4517.000000  4517.000000  4517.000000  4517.000000   \n",
              "mean     36.265649    36.626408    35.886846    36.265749    36.265749   \n",
              "std      33.963870    34.318792    33.590393    33.963608    33.963608   \n",
              "min       2.482232     2.546046     2.475976     2.502753     2.502753   \n",
              "25%      12.532032    12.675175    12.387387    12.513263    12.513263   \n",
              "50%      22.185936    22.297297    22.044294    22.193193    22.193193   \n",
              "75%      52.500000    52.984501    51.792500    52.438499    52.438499   \n",
              "max     151.250000   151.546494   148.899002   149.838501   149.838501   \n",
              "\n",
              "             Volume  \n",
              "count  4.517000e+03  \n",
              "mean   1.269836e+08  \n",
              "std    1.524278e+08  \n",
              "min    9.312000e+06  \n",
              "25%    3.385200e+07  \n",
              "50%    7.338254e+07  \n",
              "75%    1.570788e+08  \n",
              "max    1.643023e+09  "
            ],
            "text/html": [
              "\n",
              "  <div id=\"df-0a84a9f6-d2ad-458e-b43a-19e0a4f1dba8\">\n",
              "    <div class=\"colab-df-container\">\n",
              "      <div>\n",
              "<style scoped>\n",
              "    .dataframe tbody tr th:only-of-type {\n",
              "        vertical-align: middle;\n",
              "    }\n",
              "\n",
              "    .dataframe tbody tr th {\n",
              "        vertical-align: top;\n",
              "    }\n",
              "\n",
              "    .dataframe thead th {\n",
              "        text-align: right;\n",
              "    }\n",
              "</style>\n",
              "<table border=\"1\" class=\"dataframe\">\n",
              "  <thead>\n",
              "    <tr style=\"text-align: right;\">\n",
              "      <th></th>\n",
              "      <th>Open</th>\n",
              "      <th>High</th>\n",
              "      <th>Low</th>\n",
              "      <th>Close</th>\n",
              "      <th>Adj Close</th>\n",
              "      <th>Volume</th>\n",
              "    </tr>\n",
              "  </thead>\n",
              "  <tbody>\n",
              "    <tr>\n",
              "      <th>count</th>\n",
              "      <td>4517.000000</td>\n",
              "      <td>4517.000000</td>\n",
              "      <td>4517.000000</td>\n",
              "      <td>4517.000000</td>\n",
              "      <td>4517.000000</td>\n",
              "      <td>4.517000e+03</td>\n",
              "    </tr>\n",
              "    <tr>\n",
              "      <th>mean</th>\n",
              "      <td>36.265649</td>\n",
              "      <td>36.626408</td>\n",
              "      <td>35.886846</td>\n",
              "      <td>36.265749</td>\n",
              "      <td>36.265749</td>\n",
              "      <td>1.269836e+08</td>\n",
              "    </tr>\n",
              "    <tr>\n",
              "      <th>std</th>\n",
              "      <td>33.963870</td>\n",
              "      <td>34.318792</td>\n",
              "      <td>33.590393</td>\n",
              "      <td>33.963608</td>\n",
              "      <td>33.963608</td>\n",
              "      <td>1.524278e+08</td>\n",
              "    </tr>\n",
              "    <tr>\n",
              "      <th>min</th>\n",
              "      <td>2.482232</td>\n",
              "      <td>2.546046</td>\n",
              "      <td>2.475976</td>\n",
              "      <td>2.502753</td>\n",
              "      <td>2.502753</td>\n",
              "      <td>9.312000e+06</td>\n",
              "    </tr>\n",
              "    <tr>\n",
              "      <th>25%</th>\n",
              "      <td>12.532032</td>\n",
              "      <td>12.675175</td>\n",
              "      <td>12.387387</td>\n",
              "      <td>12.513263</td>\n",
              "      <td>12.513263</td>\n",
              "      <td>3.385200e+07</td>\n",
              "    </tr>\n",
              "    <tr>\n",
              "      <th>50%</th>\n",
              "      <td>22.185936</td>\n",
              "      <td>22.297297</td>\n",
              "      <td>22.044294</td>\n",
              "      <td>22.193193</td>\n",
              "      <td>22.193193</td>\n",
              "      <td>7.338254e+07</td>\n",
              "    </tr>\n",
              "    <tr>\n",
              "      <th>75%</th>\n",
              "      <td>52.500000</td>\n",
              "      <td>52.984501</td>\n",
              "      <td>51.792500</td>\n",
              "      <td>52.438499</td>\n",
              "      <td>52.438499</td>\n",
              "      <td>1.570788e+08</td>\n",
              "    </tr>\n",
              "    <tr>\n",
              "      <th>max</th>\n",
              "      <td>151.250000</td>\n",
              "      <td>151.546494</td>\n",
              "      <td>148.899002</td>\n",
              "      <td>149.838501</td>\n",
              "      <td>149.838501</td>\n",
              "      <td>1.643023e+09</td>\n",
              "    </tr>\n",
              "  </tbody>\n",
              "</table>\n",
              "</div>\n",
              "      <button class=\"colab-df-convert\" onclick=\"convertToInteractive('df-0a84a9f6-d2ad-458e-b43a-19e0a4f1dba8')\"\n",
              "              title=\"Convert this dataframe to an interactive table.\"\n",
              "              style=\"display:none;\">\n",
              "        \n",
              "  <svg xmlns=\"http://www.w3.org/2000/svg\" height=\"24px\"viewBox=\"0 0 24 24\"\n",
              "       width=\"24px\">\n",
              "    <path d=\"M0 0h24v24H0V0z\" fill=\"none\"/>\n",
              "    <path d=\"M18.56 5.44l.94 2.06.94-2.06 2.06-.94-2.06-.94-.94-2.06-.94 2.06-2.06.94zm-11 1L8.5 8.5l.94-2.06 2.06-.94-2.06-.94L8.5 2.5l-.94 2.06-2.06.94zm10 10l.94 2.06.94-2.06 2.06-.94-2.06-.94-.94-2.06-.94 2.06-2.06.94z\"/><path d=\"M17.41 7.96l-1.37-1.37c-.4-.4-.92-.59-1.43-.59-.52 0-1.04.2-1.43.59L10.3 9.45l-7.72 7.72c-.78.78-.78 2.05 0 2.83L4 21.41c.39.39.9.59 1.41.59.51 0 1.02-.2 1.41-.59l7.78-7.78 2.81-2.81c.8-.78.8-2.07 0-2.86zM5.41 20L4 18.59l7.72-7.72 1.47 1.35L5.41 20z\"/>\n",
              "  </svg>\n",
              "      </button>\n",
              "      \n",
              "  <style>\n",
              "    .colab-df-container {\n",
              "      display:flex;\n",
              "      flex-wrap:wrap;\n",
              "      gap: 12px;\n",
              "    }\n",
              "\n",
              "    .colab-df-convert {\n",
              "      background-color: #E8F0FE;\n",
              "      border: none;\n",
              "      border-radius: 50%;\n",
              "      cursor: pointer;\n",
              "      display: none;\n",
              "      fill: #1967D2;\n",
              "      height: 32px;\n",
              "      padding: 0 0 0 0;\n",
              "      width: 32px;\n",
              "    }\n",
              "\n",
              "    .colab-df-convert:hover {\n",
              "      background-color: #E2EBFA;\n",
              "      box-shadow: 0px 1px 2px rgba(60, 64, 67, 0.3), 0px 1px 3px 1px rgba(60, 64, 67, 0.15);\n",
              "      fill: #174EA6;\n",
              "    }\n",
              "\n",
              "    [theme=dark] .colab-df-convert {\n",
              "      background-color: #3B4455;\n",
              "      fill: #D2E3FC;\n",
              "    }\n",
              "\n",
              "    [theme=dark] .colab-df-convert:hover {\n",
              "      background-color: #434B5C;\n",
              "      box-shadow: 0px 1px 3px 1px rgba(0, 0, 0, 0.15);\n",
              "      filter: drop-shadow(0px 1px 2px rgba(0, 0, 0, 0.3));\n",
              "      fill: #FFFFFF;\n",
              "    }\n",
              "  </style>\n",
              "\n",
              "      <script>\n",
              "        const buttonEl =\n",
              "          document.querySelector('#df-0a84a9f6-d2ad-458e-b43a-19e0a4f1dba8 button.colab-df-convert');\n",
              "        buttonEl.style.display =\n",
              "          google.colab.kernel.accessAllowed ? 'block' : 'none';\n",
              "\n",
              "        async function convertToInteractive(key) {\n",
              "          const element = document.querySelector('#df-0a84a9f6-d2ad-458e-b43a-19e0a4f1dba8');\n",
              "          const dataTable =\n",
              "            await google.colab.kernel.invokeFunction('convertToInteractive',\n",
              "                                                     [key], {});\n",
              "          if (!dataTable) return;\n",
              "\n",
              "          const docLinkHtml = 'Like what you see? Visit the ' +\n",
              "            '<a target=\"_blank\" href=https://colab.research.google.com/notebooks/data_table.ipynb>data table notebook</a>'\n",
              "            + ' to learn more about interactive tables.';\n",
              "          element.innerHTML = '';\n",
              "          dataTable['output_type'] = 'display_data';\n",
              "          await google.colab.output.renderOutput(dataTable, element);\n",
              "          const docLink = document.createElement('div');\n",
              "          docLink.innerHTML = docLinkHtml;\n",
              "          element.appendChild(docLink);\n",
              "        }\n",
              "      </script>\n",
              "    </div>\n",
              "  </div>\n",
              "  "
            ]
          },
          "metadata": {},
          "execution_count": 12
        }
      ]
    },
    {
      "cell_type": "code",
      "source": [
        "google[['Open','High','Low','Close','Adj Close']].plot(kind='box')"
      ],
      "metadata": {
        "colab": {
          "base_uri": "https://localhost:8080/",
          "height": 282
        },
        "id": "cghVwXOwRySv",
        "outputId": "7457f80c-837b-4fd0-bc3c-1cd0336d8bb3"
      },
      "execution_count": null,
      "outputs": [
        {
          "output_type": "execute_result",
          "data": {
            "text/plain": [
              "<matplotlib.axes._subplots.AxesSubplot at 0x7f2ca7ebfaf0>"
            ]
          },
          "metadata": {},
          "execution_count": 13
        },
        {
          "output_type": "display_data",
          "data": {
            "text/plain": [
              "<Figure size 432x288 with 1 Axes>"
            ],
            "image/png": "[encoded data removed]"
          },
          "metadata": {
            "needs_background": "light"
          }
        }
      ]
    },
    {
      "cell_type": "code",
      "source": [
        "layout = go.Layout(\n",
        "     title='Google Stock Price',\n",
        "     xaxis=dict(\n",
        "     title='Date',\n",
        "     titlefont=dict(\n",
        "     family='Courier New, monospace',\n",
        "     size=10,\n",
        "     color='#7f7f7f'\n",
        "     )\n",
        "    ),\n",
        "    yaxis=dict(\n",
        "     title='Price',\n",
        "     titlefont=dict(\n",
        "     family='Courier New, monospace',\n",
        "     size=10,\n",
        "     color='#7f7f7f'\n",
        "     )\n",
        "    ) \n",
        ")    \n",
        "google_data = [{'x':google['Date'],'y':google['Close']}]\n",
        "plot = go.Figure(data=google_data, layout=layout)"
      ],
      "metadata": {
        "id": "wVB_rHkSRyk_"
      },
      "execution_count": null,
      "outputs": []
    },
    {
      "cell_type": "code",
      "source": [
        "\n",
        " iplot(plot)"
      ],
      "metadata": {
        "id": "Zgd_uljvSJKE"
      },
      "execution_count": null,
      "outputs": []
    },
    {
      "cell_type": "code",
      "source": [
        "#Regression Model\n",
        "from sklearn.model_selection import train_test_split\n",
        "\n",
        "#preprocessing\n",
        "from sklearn.preprocessing import MinMaxScaler\n",
        "from sklearn.preprocessing import StandardScaler\n",
        "\n",
        "#Evalution\n",
        "from sklearn.metrics import mean_squared_error as mse\n",
        "from sklearn.metrics import r2_score"
      ],
      "metadata": {
        "id": "mM8yEMwzR-H6"
      },
      "execution_count": null,
      "outputs": []
    },
    {
      "cell_type": "code",
      "source": [
        "#splitting the data into Train and Test sets\n",
        "X = np.array(google.index).reshape(-1,1)\n",
        "Y = google['Close']\n",
        "X_train, X_test, Y_train, Y_test = train_test_split(X,Y,test_size=0.2,random_state=101)"
      ],
      "metadata": {
        "id": "ogInBapySJ-R"
      },
      "execution_count": null,
      "outputs": []
    },
    {
      "cell_type": "code",
      "source": [
        "#Feature Scaling\n",
        "scaler = StandardScaler().fit(X_train)"
      ],
      "metadata": {
        "id": "tWU-WrFZSSPi"
      },
      "execution_count": null,
      "outputs": []
    },
    {
      "cell_type": "code",
      "source": [
        "#liner Regression\n",
        "from sklearn.linear_model import LinearRegression"
      ],
      "metadata": {
        "id": "tOlHPQtVSWPm"
      },
      "execution_count": null,
      "outputs": []
    },
    {
      "cell_type": "code",
      "source": [
        "#creating a liner Model\n",
        "lm = LinearRegression()\n",
        "lm.fit(X_train, Y_train)"
      ],
      "metadata": {
        "colab": {
          "base_uri": "https://localhost:8080/"
        },
        "id": "4nbqz_UvSYEl",
        "outputId": "ecdbcd44-cb59-4a28-b149-794fa86a23f2"
      },
      "execution_count": null,
      "outputs": [
        {
          "output_type": "execute_result",
          "data": {
            "text/plain": [
              "LinearRegression()"
            ]
          },
          "metadata": {},
          "execution_count": 21
        }
      ]
    },
    {
      "cell_type": "code",
      "source": [
        "#plot Actual and Predicted values for Train dataset\n",
        "trace0 = go.Scatter(\n",
        "    x = X_train.T[0],\n",
        "    y = Y_train,\n",
        "    mode = 'markers',\n",
        "    name = 'Actual'\n",
        ")\n",
        "trace1 = go.Scatter(\n",
        "    x = X_train.T[0],\n",
        "    y = lm.predict(X_train).T,\n",
        "    mode = 'lines',\n",
        "    name = 'Predicted'\n",
        ")\n",
        "google_data = [trace0,trace1]\n",
        "layout.xaxis.title.text = 'Day'\n",
        "plot2 = go.Figure(data=google_data, layout=layout)"
      ],
      "metadata": {
        "id": "6WmcxeG_Sbt-"
      },
      "execution_count": null,
      "outputs": []
    },
    {
      "cell_type": "code",
      "source": [
        "iplot(plot2)"
      ],
      "metadata": {
        "id": "XsLorNerSevX"
      },
      "execution_count": null,
      "outputs": []
    },
    {
      "cell_type": "code",
      "source": [
        "#Calculate Score for model evaluation\n",
        "scores = f'''\n",
        "{'Metric'.ljust(10)}{'Train'.center(20)}{'Test'.center(20)}\n",
        "{'r2_score'.ljust(10)}{r2_score(Y_train, lm.predict(X_train))}\\t{r2_score(Y_test, lm.predict(X_test))}\n",
        "{'MSE'.ljust(10)}{mse(Y_train, lm.predict(X_train))}\\t{mse(Y_test, lm.predict(X_test))}\n",
        "'''\n",
        "print(scores)"
      ],
      "metadata": {
        "colab": {
          "base_uri": "https://localhost:8080/"
        },
        "id": "3AsgbXjbSiL2",
        "outputId": "1e03303a-26ea-48cd-ed09-97a4ef87ea92"
      },
      "execution_count": null,
      "outputs": [
        {
          "output_type": "stream",
          "name": "stdout",
          "text": [
            "\n",
            "Metric           Train                Test        \n",
            "r2_score  0.7357897148760421\t0.7406761939656101\n",
            "MSE       307.44410606396934\t288.2429314255529\n",
            "\n"
          ]
        }
      ]
    }
  ]
}